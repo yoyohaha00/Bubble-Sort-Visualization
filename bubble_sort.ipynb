{
 "cells": [
  {
   "cell_type": "code",
   "execution_count": null,
   "id": "484f3198",
   "metadata": {},
   "outputs": [],
   "source": [
    "import matplotlib.pyplot as plt\n",
    "import matplotlib.animation as animation\n",
    "import random\n",
    "from matplotlib.colors import Normalize\n",
    "from IPython.display import Image, display\n",
    "\n",
    "# Generate random sequence\n",
    "N = 20\n",
    "arr = random.sample(range(1, N+1), N)\n",
    "\n",
    "# Color rule: larger values -> darker color\n",
    "norm = Normalize(vmin=min(arr), vmax=max(arr))\n",
    "cmap = plt.cm.BuGn\n",
    "\n",
    "def get_colors(data):\n",
    "    return [cmap(0.3 + 0.7*norm(val)) for val in data]\n",
    "\n",
    "\n",
    "# Bubble sort process\n",
    "frames = []\n",
    "a = arr.copy()\n",
    "for i in range(len(a)):\n",
    "    for j in range(len(a)-1-i):\n",
    "        if a[j] > a[j+1]:\n",
    "            a[j], a[j+1] = a[j+1], a[j]\n",
    "        frames.append(a.copy())\n",
    "\n",
    "# Build chart\n",
    "fig, ax = plt.subplots()\n",
    "bars = ax.bar(range(len(arr)), arr, color=get_colors(arr))\n",
    "ax.set_ylim(0, max(arr)+1)\n",
    "ax.set_xlim(-0.5, N-0.5)\n",
    "\n",
    "# Update function\n",
    "def update(frame):\n",
    "    for bar, val, color in zip(bars, frame, get_colors(frame)):\n",
    "        bar.set_height(val)\n",
    "        bar.set_color(color)\n",
    "    return bars\n",
    "\n",
    "# Create animation\n",
    "ani = animation.FuncAnimation(fig, update, frames=frames, interval=300, blit=False)\n",
    "\n",
    "# Save GIF\n",
    "gif_path = \"bubble_sort_gradient.gif\"\n",
    "ani.save(gif_path, writer='pillow', fps=5)\n",
    "plt.close(fig)\n",
    "\n",
    "# Display GIF\n",
    "display(Image(filename=gif_path))"
   ]
  }
 ],
 "metadata": {
  "kernelspec": {
   "display_name": "base",
   "language": "python",
   "name": "python3"
  },
  "language_info": {
   "codemirror_mode": {
    "name": "ipython",
    "version": 3
   },
   "file_extension": ".py",
   "mimetype": "text/x-python",
   "name": "python",
   "nbconvert_exporter": "python",
   "pygments_lexer": "ipython3",
   "version": "3.11.7"
  }
 },
 "nbformat": 4,
 "nbformat_minor": 5
}
